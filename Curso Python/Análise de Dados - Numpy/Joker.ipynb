{
 "cells": [
  {
   "cell_type": "code",
   "execution_count": 36,
   "id": "85e9c214",
   "metadata": {},
   "outputs": [],
   "source": [
    "from bs4 import BeautifulSoup as soup\n",
    "\n",
    "from urllib.request import urlopen as uReq\n",
    "import csv\n"
   ]
  },
  {
   "cell_type": "code",
   "execution_count": 37,
   "id": "f1eae7c3",
   "metadata": {},
   "outputs": [],
   "source": [
    "rotten_urls = ['http://www.rottentomatoes.com/m/joker_2019/reviews?type=&sort=']*21"
   ]
  },
  {
   "cell_type": "code",
   "execution_count": 38,
   "id": "ff358458",
   "metadata": {},
   "outputs": [
    {
     "data": {
      "text/plain": [
       "['http://www.rottentomatoes.com/m/joker_2019/reviews?type=&sort=',\n",
       " 'http://www.rottentomatoes.com/m/joker_2019/reviews?type=&sort=',\n",
       " 'http://www.rottentomatoes.com/m/joker_2019/reviews?type=&sort=',\n",
       " 'http://www.rottentomatoes.com/m/joker_2019/reviews?type=&sort=',\n",
       " 'http://www.rottentomatoes.com/m/joker_2019/reviews?type=&sort=',\n",
       " 'http://www.rottentomatoes.com/m/joker_2019/reviews?type=&sort=',\n",
       " 'http://www.rottentomatoes.com/m/joker_2019/reviews?type=&sort=',\n",
       " 'http://www.rottentomatoes.com/m/joker_2019/reviews?type=&sort=',\n",
       " 'http://www.rottentomatoes.com/m/joker_2019/reviews?type=&sort=',\n",
       " 'http://www.rottentomatoes.com/m/joker_2019/reviews?type=&sort=',\n",
       " 'http://www.rottentomatoes.com/m/joker_2019/reviews?type=&sort=',\n",
       " 'http://www.rottentomatoes.com/m/joker_2019/reviews?type=&sort=',\n",
       " 'http://www.rottentomatoes.com/m/joker_2019/reviews?type=&sort=',\n",
       " 'http://www.rottentomatoes.com/m/joker_2019/reviews?type=&sort=',\n",
       " 'http://www.rottentomatoes.com/m/joker_2019/reviews?type=&sort=',\n",
       " 'http://www.rottentomatoes.com/m/joker_2019/reviews?type=&sort=',\n",
       " 'http://www.rottentomatoes.com/m/joker_2019/reviews?type=&sort=',\n",
       " 'http://www.rottentomatoes.com/m/joker_2019/reviews?type=&sort=',\n",
       " 'http://www.rottentomatoes.com/m/joker_2019/reviews?type=&sort=',\n",
       " 'http://www.rottentomatoes.com/m/joker_2019/reviews?type=&sort=',\n",
       " 'http://www.rottentomatoes.com/m/joker_2019/reviews?type=&sort=']"
      ]
     },
     "execution_count": 38,
     "metadata": {},
     "output_type": "execute_result"
    }
   ],
   "source": [
    "rotten_urls"
   ]
  },
  {
   "cell_type": "code",
   "execution_count": 39,
   "id": "a499e3c6",
   "metadata": {},
   "outputs": [],
   "source": [
    "#creating list of urls with rotten tomatoes pattern\n",
    "page = 2\n",
    "while (page<= 21):\n",
    "    url_pos = page-1\n",
    "    rotten_urls[url_pos] = rotten_urls[url_pos] + '&page=' +str(page)\n",
    "    page = page + 1"
   ]
  },
  {
   "cell_type": "code",
   "execution_count": 40,
   "id": "8475177f",
   "metadata": {},
   "outputs": [
    {
     "data": {
      "text/plain": [
       "['http://www.rottentomatoes.com/m/joker_2019/reviews?type=&sort=',\n",
       " 'http://www.rottentomatoes.com/m/joker_2019/reviews?type=&sort=&page=2',\n",
       " 'http://www.rottentomatoes.com/m/joker_2019/reviews?type=&sort=&page=3',\n",
       " 'http://www.rottentomatoes.com/m/joker_2019/reviews?type=&sort=&page=4',\n",
       " 'http://www.rottentomatoes.com/m/joker_2019/reviews?type=&sort=&page=5',\n",
       " 'http://www.rottentomatoes.com/m/joker_2019/reviews?type=&sort=&page=6',\n",
       " 'http://www.rottentomatoes.com/m/joker_2019/reviews?type=&sort=&page=7',\n",
       " 'http://www.rottentomatoes.com/m/joker_2019/reviews?type=&sort=&page=8',\n",
       " 'http://www.rottentomatoes.com/m/joker_2019/reviews?type=&sort=&page=9',\n",
       " 'http://www.rottentomatoes.com/m/joker_2019/reviews?type=&sort=&page=10',\n",
       " 'http://www.rottentomatoes.com/m/joker_2019/reviews?type=&sort=&page=11',\n",
       " 'http://www.rottentomatoes.com/m/joker_2019/reviews?type=&sort=&page=12',\n",
       " 'http://www.rottentomatoes.com/m/joker_2019/reviews?type=&sort=&page=13',\n",
       " 'http://www.rottentomatoes.com/m/joker_2019/reviews?type=&sort=&page=14',\n",
       " 'http://www.rottentomatoes.com/m/joker_2019/reviews?type=&sort=&page=15',\n",
       " 'http://www.rottentomatoes.com/m/joker_2019/reviews?type=&sort=&page=16',\n",
       " 'http://www.rottentomatoes.com/m/joker_2019/reviews?type=&sort=&page=17',\n",
       " 'http://www.rottentomatoes.com/m/joker_2019/reviews?type=&sort=&page=18',\n",
       " 'http://www.rottentomatoes.com/m/joker_2019/reviews?type=&sort=&page=19',\n",
       " 'http://www.rottentomatoes.com/m/joker_2019/reviews?type=&sort=&page=20',\n",
       " 'http://www.rottentomatoes.com/m/joker_2019/reviews?type=&sort=&page=21']"
      ]
     },
     "execution_count": 40,
     "metadata": {},
     "output_type": "execute_result"
    }
   ],
   "source": [
    "rotten_urls"
   ]
  },
  {
   "cell_type": "code",
   "execution_count": 43,
   "id": "ba52d9ed",
   "metadata": {},
   "outputs": [],
   "source": [
    "#retrieving data from urls\n",
    "reviews=[]\n",
    "for url in rotten_urls:\n",
    "    uClient = uReq(url)\n",
    "    page_html = uClient.read()\n",
    "    uClient.close()\n",
    "    page_soup = soup(page_html, \"html.parser\")\n",
    "    reviews = reviews + [review.text for review in page_soup.find_all(\"div\", {\"class\":\"review_area\"})]"
   ]
  },
  {
   "cell_type": "code",
   "execution_count": 44,
   "id": "22dcc649",
   "metadata": {},
   "outputs": [
    {
     "data": {
      "text/plain": [
       "0"
      ]
     },
     "execution_count": 44,
     "metadata": {},
     "output_type": "execute_result"
    }
   ],
   "source": [
    "len(reviews)"
   ]
  },
  {
   "cell_type": "code",
   "execution_count": null,
   "id": "a3f9f4ba",
   "metadata": {},
   "outputs": [],
   "source": [
    "#a opção por página foi retirada do site, não é mais possível usar esses comandos acima."
   ]
  }
 ],
 "metadata": {
  "kernelspec": {
   "display_name": "Python 3 (ipykernel)",
   "language": "python",
   "name": "python3"
  },
  "language_info": {
   "codemirror_mode": {
    "name": "ipython",
    "version": 3
   },
   "file_extension": ".py",
   "mimetype": "text/x-python",
   "name": "python",
   "nbconvert_exporter": "python",
   "pygments_lexer": "ipython3",
   "version": "3.10.0"
  }
 },
 "nbformat": 4,
 "nbformat_minor": 5
}
