{
  "nbformat": 4,
  "nbformat_minor": 0,
  "metadata": {
    "colab": {
      "name": "Untitled2.ipynb",
      "provenance": [],
      "collapsed_sections": []
    },
    "kernelspec": {
      "name": "python3",
      "display_name": "Python 3"
    },
    "language_info": {
      "name": "python"
    }
  },
  "cells": [
    {
      "cell_type": "code",
      "execution_count": 16,
      "metadata": {
        "id": "_Tou4iWC-Fdi"
      },
      "outputs": [],
      "source": [
        "import pandas as pd\n",
        "import numpy as np"
      ]
    },
    {
      "cell_type": "markdown",
      "source": [
        "1. Crie um array de tamanho 30 com valores igualmente espaçados entre 0 e 1;"
      ],
      "metadata": {
        "id": "8d7r8IdpFVyj"
      }
    },
    {
      "cell_type": "code",
      "source": [
        "np.linspace(0, 1, 30)"
      ],
      "metadata": {
        "colab": {
          "base_uri": "https://localhost:8080/"
        },
        "id": "k6m8xaf8-HeR",
        "outputId": "ff01bb50-0aee-49c7-f88d-891f03dd0da8"
      },
      "execution_count": 18,
      "outputs": [
        {
          "output_type": "execute_result",
          "data": {
            "text/plain": [
              "array([0.        , 0.03448276, 0.06896552, 0.10344828, 0.13793103,\n",
              "       0.17241379, 0.20689655, 0.24137931, 0.27586207, 0.31034483,\n",
              "       0.34482759, 0.37931034, 0.4137931 , 0.44827586, 0.48275862,\n",
              "       0.51724138, 0.55172414, 0.5862069 , 0.62068966, 0.65517241,\n",
              "       0.68965517, 0.72413793, 0.75862069, 0.79310345, 0.82758621,\n",
              "       0.86206897, 0.89655172, 0.93103448, 0.96551724, 1.        ])"
            ]
          },
          "metadata": {},
          "execution_count": 18
        }
      ]
    },
    {
      "cell_type": "markdown",
      "source": [
        "2. Crie dois arrays: um de números pares de 0 a 51 e outros também de pares de 100 à 50.Em seguida, os concatene e mostre os resultados ordenados;"
      ],
      "metadata": {
        "id": "Taq6ajd8FdH5"
      }
    },
    {
      "cell_type": "code",
      "source": [
        "x = np.arange(0, 51, 2)  \n",
        "\n",
        "y = np.arange(100, 50, -2)\n",
        "\n",
        "print(x)\n",
        "print(y)\n"
      ],
      "metadata": {
        "colab": {
          "base_uri": "https://localhost:8080/"
        },
        "id": "FqjssBna-Hm-",
        "outputId": "22ea04d1-db34-495c-cfed-501cbedcd38b"
      },
      "execution_count": 19,
      "outputs": [
        {
          "output_type": "stream",
          "name": "stdout",
          "text": [
            "[ 0  2  4  6  8 10 12 14 16 18 20 22 24 26 28 30 32 34 36 38 40 42 44 46\n",
            " 48 50]\n",
            "[100  98  96  94  92  90  88  86  84  82  80  78  76  74  72  70  68  66\n",
            "  64  62  60  58  56  54  52]\n"
          ]
        }
      ]
    },
    {
      "cell_type": "code",
      "source": [
        "z = np.concatenate((x, y))\n",
        "z"
      ],
      "metadata": {
        "colab": {
          "base_uri": "https://localhost:8080/"
        },
        "id": "LgzRZMyr-HqA",
        "outputId": "a20d88af-8609-4c4c-e0cd-152fc4e949ff"
      },
      "execution_count": 26,
      "outputs": [
        {
          "output_type": "execute_result",
          "data": {
            "text/plain": [
              "array([  0,   2,   4,   6,   8,  10,  12,  14,  16,  18,  20,  22,  24,\n",
              "        26,  28,  30,  32,  34,  36,  38,  40,  42,  44,  46,  48,  50,\n",
              "       100,  98,  96,  94,  92,  90,  88,  86,  84,  82,  80,  78,  76,\n",
              "        74,  72,  70,  68,  66,  64,  62,  60,  58,  56,  54,  52])"
            ]
          },
          "metadata": {},
          "execution_count": 26
        }
      ]
    },
    {
      "cell_type": "markdown",
      "source": [
        "3. Ordene os resultados do array da resultante da questão 2 em ordem crescente;"
      ],
      "metadata": {
        "id": "DwT6vClHFoCK"
      }
    },
    {
      "cell_type": "code",
      "source": [
        "z.sort()\n",
        "z"
      ],
      "metadata": {
        "colab": {
          "base_uri": "https://localhost:8080/"
        },
        "id": "V00UNGdt-HsI",
        "outputId": "1ac9c3a0-7378-41cd-e30e-0f10d43efaff"
      },
      "execution_count": 28,
      "outputs": [
        {
          "output_type": "execute_result",
          "data": {
            "text/plain": [
              "array([  0,   2,   4,   6,   8,  10,  12,  14,  16,  18,  20,  22,  24,\n",
              "        26,  28,  30,  32,  34,  36,  38,  40,  42,  44,  46,  48,  50,\n",
              "        52,  54,  56,  58,  60,  62,  64,  66,  68,  70,  72,  74,  76,\n",
              "        78,  80,  82,  84,  86,  88,  90,  92,  94,  96,  98, 100])"
            ]
          },
          "metadata": {},
          "execution_count": 28
        }
      ]
    },
    {
      "cell_type": "markdown",
      "source": [
        "4. Crie uma matriz formada somente por uns de tamanho 3x4. Em seguida, transforme-a em um array de uma dimensão."
      ],
      "metadata": {
        "id": "BSTluy99Fq1i"
      }
    },
    {
      "cell_type": "code",
      "source": [
        "matriz = np.ones((3,4))\n",
        "array = (np.asarray(matriz)).flatten()   #converte array N dimensional em unidimensional\n",
        "print(matriz)\n",
        "print(array)\n"
      ],
      "metadata": {
        "colab": {
          "base_uri": "https://localhost:8080/"
        },
        "id": "K0BsvaSZELo2",
        "outputId": "05dadaff-331f-4202-c555-13cc9f9a7b6c"
      },
      "execution_count": 37,
      "outputs": [
        {
          "output_type": "stream",
          "name": "stdout",
          "text": [
            "[[1. 1. 1. 1.]\n",
            " [1. 1. 1. 1.]\n",
            " [1. 1. 1. 1.]]\n",
            "[1. 1. 1. 1. 1. 1. 1. 1. 1. 1. 1. 1.]\n"
          ]
        }
      ]
    },
    {
      "cell_type": "markdown",
      "source": [
        "5. Crie uma matriz de tamanho qualquer. Extraia seu número de linhas e colunas, multiplique-os, e diga se esta matriz poderia se tornar um vetor com número par ou ímpar de elementos."
      ],
      "metadata": {
        "id": "apfNmKYcNZ_V"
      }
    },
    {
      "cell_type": "code",
      "source": [
        "tamanho1 = (3, 4)\n",
        "tamanho2 = (3, 5) \n",
        "matriz = np.ones((tamanho1))\n",
        "matriz\n",
        "\n",
        "\n",
        "tupla = matriz.shape\n",
        "produto = tupla[0] * tupla[1]\n",
        "if produto % 2 ==0:\n",
        "  print('Número par de elementos:', produto)\n",
        "else:\n",
        "  print('Número impar de elementos:', produto)"
      ],
      "metadata": {
        "colab": {
          "base_uri": "https://localhost:8080/"
        },
        "id": "SQmvdW7vNCUW",
        "outputId": "c96fdadd-046c-47b5-a224-72f2889be807"
      },
      "execution_count": 52,
      "outputs": [
        {
          "output_type": "stream",
          "name": "stdout",
          "text": [
            "Número par de elementos: 12\n"
          ]
        }
      ]
    },
    {
      "cell_type": "code",
      "source": [
        ""
      ],
      "metadata": {
        "id": "cHu_xsO5NgLL"
      },
      "execution_count": null,
      "outputs": []
    }
  ]
}