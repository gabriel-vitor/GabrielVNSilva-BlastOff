{
  "cells": [
    {
      "cell_type": "markdown",
      "metadata": {
        "id": "L48lBER_TW7l"
      },
      "source": [
        "1. Crie um array de floats com 10 elementos positivos e negativos entre 0 e 1. Em seguida, multiplique seus valores por 100 e crie um novo vetor apenas com a parte inteira destes números. (use seed(5) antes)"
      ]
    },
    {
      "cell_type": "code",
      "execution_count": 3,
      "metadata": {
        "id": "OKsbiTfxTe5n"
      },
      "outputs": [],
      "source": [
        "import numpy as np\n",
        "import random"
      ]
    },
    {
      "cell_type": "code",
      "execution_count": 31,
      "metadata": {
        "colab": {
          "base_uri": "https://localhost:8080/"
        },
        "id": "lQg3mpJpQHvy",
        "outputId": "fdff3f07-8c8b-4309-979f-97a5c6fc7d32"
      },
      "outputs": [
        {
          "name": "stdout",
          "output_type": "stream",
          "text": [
            "[ 0.44122749 -0.33087015  2.43077119 -0.25209213  0.10960984  1.58248112\n",
            " -0.9092324  -0.59163666  0.18760323 -0.32986996]\n",
            "[ 44.12274869 -33.08701519 243.0771187  -25.20921296  10.96098416\n",
            " 158.24811171 -90.92324049 -59.16366579  18.76032258 -32.98699578]\n"
          ]
        }
      ],
      "source": [
        "np.random.seed(5)\n",
        "\n",
        "array = np.random.randn(10)\n",
        "print(array)\n",
        "\n",
        "new_array = array * 100\n",
        "print(new_array)\n"
      ]
    },
    {
      "cell_type": "code",
      "execution_count": 28,
      "metadata": {
        "colab": {
          "base_uri": "https://localhost:8080/"
        },
        "id": "6AMGBXiCWQ17",
        "outputId": "8e0b1683-cc00-4e3b-ea93-eda01f388c0e"
      },
      "outputs": [
        {
          "data": {
            "text/plain": [
              "[44, -33, 243, -25, 10, 158, -90, -59, 18, -32]"
            ]
          },
          "execution_count": 28,
          "metadata": {},
          "output_type": "execute_result"
        }
      ],
      "source": [
        "vetor = []\n",
        "tam = len(new_array)\n",
        "for i in range (0, tam):\n",
        "  vetor.append(int(new_array[i]))\n",
        "\n",
        "vetor"
      ]
    },
    {
      "cell_type": "markdown",
      "metadata": {
        "id": "SaFJ4SX_WwKy"
      },
      "source": [
        "2. Crie uma matriz de tamanho 4x4 formada por números aleatórios inteiros entre 1 e 50; (use seed(10) antes)"
      ]
    },
    {
      "cell_type": "code",
      "execution_count": 35,
      "metadata": {
        "colab": {
          "base_uri": "https://localhost:8080/"
        },
        "id": "yF5TbGi8Wy4q",
        "outputId": "f380af1d-8664-461c-a319-8e28e34b3a56"
      },
      "outputs": [
        {
          "data": {
            "text/plain": [
              "array([[ 9, 36, 15,  0],\n",
              "       [49, 28, 25, 29],\n",
              "       [48, 29, 49,  8],\n",
              "       [ 9,  0, 42, 40]])"
            ]
          },
          "execution_count": 35,
          "metadata": {},
          "output_type": "execute_result"
        }
      ],
      "source": [
        "np.random.seed(10)\n",
        "matriz = np.random.randint(0, 51, size=(4,4))\n",
        "matriz"
      ]
    },
    {
      "cell_type": "markdown",
      "metadata": {
        "id": "sh07VEvcXnk0"
      },
      "source": [
        "3. Mostre o resultado da média de cada linha e cada coluna da matriz gerada pela questão 2, em seguida, apresente o maior valor das médias para as linhas e também para as colunas;"
      ]
    },
    {
      "cell_type": "code",
      "execution_count": 43,
      "metadata": {
        "colab": {
          "base_uri": "https://localhost:8080/"
        },
        "id": "ExGt7xuGXom8",
        "outputId": "e924973b-2de1-4221-ae04-d0f8a594801e"
      },
      "outputs": [
        {
          "name": "stdout",
          "output_type": "stream",
          "text": [
            "[15.   32.75 33.5  22.75]\n"
          ]
        }
      ],
      "source": [
        "rows = np.mean(matriz, axis=1)   #calcula média de cada linha\n",
        "print(rows)\n",
        "\n"
      ]
    },
    {
      "cell_type": "code",
      "execution_count": 50,
      "metadata": {
        "colab": {
          "base_uri": "https://localhost:8080/"
        },
        "id": "CuywE6AJlcDI",
        "outputId": "44ff3a8d-ed57-4796-b3a8-76b6cda3b355"
      },
      "outputs": [
        {
          "name": "stdout",
          "output_type": "stream",
          "text": [
            "Media da linha 1: 15.0\n",
            "Media da linha 2: 32.75\n",
            "Media da linha 3: 33.5\n",
            "Media da linha 4: 22.75\n",
            "[15.0, 32.75, 33.5, 22.75]\n"
          ]
        }
      ],
      "source": [
        "avg_rows = []\n",
        "\n",
        "for j, k in enumerate(rows):\n",
        "  avg_rows.append(k)\n",
        "  print(f'Media da linha {j + 1}: {k}')     #add 1 ao j para não começar no indice 0\n",
        "\n",
        "print(avg_rows)"
      ]
    },
    {
      "cell_type": "code",
      "execution_count": 51,
      "metadata": {
        "colab": {
          "base_uri": "https://localhost:8080/"
        },
        "id": "Nq90nAW6rMUI",
        "outputId": "982812f4-530f-4884-d27c-1e2065047388"
      },
      "outputs": [
        {
          "name": "stdout",
          "output_type": "stream",
          "text": [
            "[28.75 23.25 32.75 19.25]\n"
          ]
        }
      ],
      "source": [
        "columns = np.mean(matriz, axis=0)   #calcula média de cada coluna\n",
        "print(columns)\n",
        "\n"
      ]
    },
    {
      "cell_type": "code",
      "execution_count": 49,
      "metadata": {
        "colab": {
          "base_uri": "https://localhost:8080/"
        },
        "id": "-nTlRS2JmAPY",
        "outputId": "36e5f1f2-ca3a-4935-f369-4866f1e3e645"
      },
      "outputs": [
        {
          "name": "stdout",
          "output_type": "stream",
          "text": [
            "[28.75 23.25 32.75 19.25]\n",
            "Media da linha 1: 28.75\n",
            "Media da linha 2: 23.25\n",
            "Media da linha 3: 32.75\n",
            "Media da linha 4: 19.25\n",
            "[28.75, 23.25, 32.75, 19.25]\n"
          ]
        }
      ],
      "source": [
        "avg_columns = []\n",
        "\n",
        "for j, k in enumerate(columns):\n",
        "  avg_columns.append(k)\n",
        "  print(f'Media da linha {j + 1}: {k}')\n",
        "\n",
        "print(avg_columns)"
      ]
    },
    {
      "cell_type": "code",
      "execution_count": 52,
      "metadata": {
        "colab": {
          "base_uri": "https://localhost:8080/"
        },
        "id": "zMiOHl8crPhR",
        "outputId": "050aee40-4f29-4703-b867-9748c1066826"
      },
      "outputs": [
        {
          "name": "stdout",
          "output_type": "stream",
          "text": [
            "33.5\n",
            "32.75\n"
          ]
        }
      ],
      "source": [
        "max_row = max(avg_rows)\n",
        "max_column = max(avg_columns)\n",
        "\n",
        "print(max_row)\n",
        "print(max_column)"
      ]
    },
    {
      "cell_type": "markdown",
      "metadata": {
        "id": "GkLKlS_2TWBn"
      },
      "source": [
        "4. Baseando na matriz gerada na questão 2, mostre a quantidade de aparições de cada um dos números na mesma. Em seguida, mostre apenas os números que aparecem duas vezes."
      ]
    },
    {
      "cell_type": "code",
      "execution_count": 57,
      "metadata": {
        "colab": {
          "base_uri": "https://localhost:8080/"
        },
        "id": "aYUFxq2peay8",
        "outputId": "4e942b10-4607-4aa9-df24-509b2ee16839"
      },
      "outputs": [
        {
          "data": {
            "text/plain": [
              "array([[ 9, 36, 15,  0],\n",
              "       [49, 28, 25, 29],\n",
              "       [48, 29, 49,  8],\n",
              "       [ 9,  0, 42, 40]])"
            ]
          },
          "execution_count": 57,
          "metadata": {},
          "output_type": "execute_result"
        }
      ],
      "source": [
        "import collections    #armazena coleções de dados num dicionário\n",
        "matriz"
      ]
    },
    {
      "cell_type": "code",
      "execution_count": 55,
      "metadata": {
        "colab": {
          "base_uri": "https://localhost:8080/"
        },
        "id": "xl2TBT-irmTX",
        "outputId": "b405b5be-72e2-4e1f-f3d6-179da07054d5"
      },
      "outputs": [
        {
          "data": {
            "text/plain": [
              "array([ 9, 36, 15,  0, 49, 28, 25, 29, 48, 29, 49,  8,  9,  0, 42, 40])"
            ]
          },
          "execution_count": 55,
          "metadata": {},
          "output_type": "execute_result"
        }
      ],
      "source": [
        "matriz_uni = (np.asarray(matriz)).flatten()\n",
        "matriz_uni\n"
      ]
    },
    {
      "cell_type": "code",
      "execution_count": 61,
      "metadata": {
        "colab": {
          "base_uri": "https://localhost:8080/"
        },
        "id": "sZfbVF98ry1P",
        "outputId": "9505ff51-89ff-4fa7-faaa-b410667c7dfd"
      },
      "outputs": [
        {
          "data": {
            "text/plain": [
              "Counter({0: 2,\n",
              "         8: 1,\n",
              "         9: 2,\n",
              "         15: 1,\n",
              "         25: 1,\n",
              "         28: 1,\n",
              "         29: 2,\n",
              "         36: 1,\n",
              "         40: 1,\n",
              "         42: 1,\n",
              "         48: 1,\n",
              "         49: 2})"
            ]
          },
          "execution_count": 61,
          "metadata": {},
          "output_type": "execute_result"
        }
      ],
      "source": [
        "aparicoes = collections.Counter(matriz_uni)\n",
        "aparicoes"
      ]
    },
    {
      "cell_type": "code",
      "execution_count": 78,
      "metadata": {
        "colab": {
          "base_uri": "https://localhost:8080/"
        },
        "id": "12DJn0AJr_4P",
        "outputId": "c8701325-4be7-477f-b68d-861c08dc05e2"
      },
      "outputs": [
        {
          "name": "stdout",
          "output_type": "stream",
          "text": [
            "o número 9 aparece 2 vezes\n",
            "o número 36 aparece 1 vezes\n",
            "o número 15 aparece 1 vezes\n",
            "o número 0 aparece 2 vezes\n",
            "o número 49 aparece 2 vezes\n",
            "o número 28 aparece 1 vezes\n",
            "o número 25 aparece 1 vezes\n",
            "o número 29 aparece 2 vezes\n",
            "o número 48 aparece 1 vezes\n",
            "o número 8 aparece 1 vezes\n",
            "o número 42 aparece 1 vezes\n",
            "o número 40 aparece 1 vezes\n"
          ]
        }
      ],
      "source": [
        "for  k,v in aparicoes.items():\n",
        "  print(f'o número {k} aparece {v} vezes')\n",
        "\n"
      ]
    },
    {
      "cell_type": "code",
      "execution_count": 79,
      "metadata": {
        "colab": {
          "base_uri": "https://localhost:8080/"
        },
        "id": "uF51rA4StJVR",
        "outputId": "ac76a884-3521-419c-9789-cf6b5c904f5a"
      },
      "outputs": [
        {
          "name": "stdout",
          "output_type": "stream",
          "text": [
            "o número 9, apareceu 2 vezes\n",
            "o número 0, apareceu 2 vezes\n",
            "o número 49, apareceu 2 vezes\n",
            "o número 29, apareceu 2 vezes\n"
          ]
        }
      ],
      "source": [
        "for k, v in aparicoes.items():\n",
        "  if v == 2:\n",
        "    print(f'o número {k}, apareceu 2 vezes')"
      ]
    },
    {
      "cell_type": "code",
      "execution_count": null,
      "metadata": {
        "id": "RsaYR9m8v6Sm"
      },
      "outputs": [],
      "source": []
    }
  ],
  "metadata": {
    "colab": {
      "collapsed_sections": [],
      "name": "tarefa2_numpy.ipynb",
      "provenance": []
    },
    "kernelspec": {
      "display_name": "Python 3",
      "name": "python3"
    },
    "language_info": {
      "name": "python"
    }
  },
  "nbformat": 4,
  "nbformat_minor": 0
}
