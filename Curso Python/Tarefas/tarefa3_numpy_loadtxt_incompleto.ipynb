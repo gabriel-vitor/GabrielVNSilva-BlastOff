{
  "nbformat": 4,
  "nbformat_minor": 0,
  "metadata": {
    "colab": {
      "name": "tarefa3_numpy_loadtxt_incompleto",
      "provenance": []
    },
    "kernelspec": {
      "name": "python3",
      "display_name": "Python 3"
    },
    "language_info": {
      "name": "python"
    }
  },
  "cells": [
    {
      "cell_type": "code",
      "execution_count": 6,
      "metadata": {
        "id": "YN530cgt4IEb"
      },
      "outputs": [],
      "source": [
        "import pandas as pd\n",
        "import numpy as np\n",
        "import collections"
      ]
    },
    {
      "cell_type": "code",
      "source": [
        "space_data = np.loadtxt('./space.csv', delimiter=';',dtype=str,  encoding='utf-8')"
      ],
      "metadata": {
        "id": "fVYrcJJh48rs"
      },
      "execution_count": 11,
      "outputs": []
    },
    {
      "cell_type": "code",
      "source": [
        "space_data"
      ],
      "metadata": {
        "colab": {
          "base_uri": "https://localhost:8080/"
        },
        "id": "3A6F28VKexaQ",
        "outputId": "2a34133e-7212-4e89-aac7-8f6258be82ac"
      },
      "execution_count": 12,
      "outputs": [
        {
          "output_type": "execute_result",
          "data": {
            "text/plain": [
              "array([['\\ufeffNum', 'Company Name', 'Location', ..., 'Status Rocket',\n",
              "        ' Cost', 'Status Mission'],\n",
              "       ['0', 'SpaceX', 'LC-39A Kennedy Space Center Florida USA', ...,\n",
              "        'StatusActive', '50.0 ', 'Success'],\n",
              "       ['1', 'CASC',\n",
              "        'Site 9401 (SLS-2) Jiuquan Satellite Launch Center China', ...,\n",
              "        'StatusActive', '29.75 ', 'Success'],\n",
              "       ...,\n",
              "       ['4321', 'US Navy', 'LC-18A Cape Canaveral AFS Florida USA', ...,\n",
              "        'StatusRetired', '0', 'Failure'],\n",
              "       ['4322', 'RVSN USSR', 'Site 1/5 Baikonur Cosmodrome Kazakhstan',\n",
              "        ..., 'StatusRetired', '0', 'Success'],\n",
              "       ['4323', 'RVSN USSR', 'Site 1/5 Baikonur Cosmodrome Kazakhstan',\n",
              "        ..., 'StatusRetired', '0', 'Success']], dtype='<U84')"
            ]
          },
          "metadata": {},
          "execution_count": 12
        }
      ]
    },
    {
      "cell_type": "code",
      "source": [
        "tamlinha = len(space_data[0])\n",
        "tamcoluna = len(space_data)\n",
        "#print(tamlinha)\n",
        "#print(space_data[0])\n",
        "\n",
        "space_data = space_data.reshape(tamlinha, tamcoluna)\n",
        "space_data"
      ],
      "metadata": {
        "id": "DrLhIyxD5EJy",
        "colab": {
          "base_uri": "https://localhost:8080/"
        },
        "outputId": "f98f2fac-b5c5-4ea8-e4d2-b2e76ef084ae"
      },
      "execution_count": 31,
      "outputs": [
        {
          "output_type": "execute_result",
          "data": {
            "text/plain": [
              "array([['\\ufeffNum', 'Company Name', 'Location', ..., 'Status Rocket',\n",
              "        ' Cost', 'Status Mission'],\n",
              "       ['0', 'SpaceX', 'LC-39A Kennedy Space Center Florida USA', ...,\n",
              "        'StatusActive', '50.0 ', 'Success'],\n",
              "       ['1', 'CASC',\n",
              "        'Site 9401 (SLS-2) Jiuquan Satellite Launch Center China', ...,\n",
              "        'StatusActive', '29.75 ', 'Success'],\n",
              "       ...,\n",
              "       ['4321', 'US Navy', 'LC-18A Cape Canaveral AFS Florida USA', ...,\n",
              "        'StatusRetired', '0', 'Failure'],\n",
              "       ['4322', 'RVSN USSR', 'Site 1/5 Baikonur Cosmodrome Kazakhstan',\n",
              "        ..., 'StatusRetired', '0', 'Success'],\n",
              "       ['4323', 'RVSN USSR', 'Site 1/5 Baikonur Cosmodrome Kazakhstan',\n",
              "        ..., 'StatusRetired', '0', 'Success']], dtype='<U84')"
            ]
          },
          "metadata": {},
          "execution_count": 31
        }
      ]
    },
    {
      "cell_type": "code",
      "source": [
        "unique, counts = np.unique(space_data, return_counts=True)\n",
        "\n",
        "result = np.column_stack((unique, counts)) \n",
        "print (result)"
      ],
      "metadata": {
        "colab": {
          "base_uri": "https://localhost:8080/"
        },
        "id": "wQkqhaAzh3zf",
        "outputId": "572fdbe9-a166-49ac-8e45-e72265a16daf"
      },
      "execution_count": 33,
      "outputs": [
        {
          "output_type": "stream",
          "name": "stdout",
          "text": [
            "[[' Cost' '1']\n",
            " ['0' '3361']\n",
            " ['1' '1']\n",
            " ...\n",
            " ['ZhuQue-1 | CCTV Future-1' '1']\n",
            " ['i-Space' '1']\n",
            " ['\\ufeffNum' '1']]\n"
          ]
        }
      ]
    },
    {
      "cell_type": "markdown",
      "source": [
        " Apresente a porcentagem de quantas missões deram certo;"
      ],
      "metadata": {
        "id": "7MX78lOj61EI"
      }
    }
  ]
}