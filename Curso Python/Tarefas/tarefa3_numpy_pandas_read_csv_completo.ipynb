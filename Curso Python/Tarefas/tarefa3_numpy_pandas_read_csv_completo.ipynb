{
  "nbformat": 4,
  "nbformat_minor": 0,
  "metadata": {
    "colab": {
      "name": "tarefa3_numpy_pandas_read_csv_completo.ipynb",
      "provenance": [],
      "collapsed_sections": []
    },
    "kernelspec": {
      "name": "python3",
      "display_name": "Python 3"
    },
    "language_info": {
      "name": "python"
    }
  },
  "cells": [
    {
      "cell_type": "code",
      "execution_count": 43,
      "metadata": {
        "id": "YN530cgt4IEb"
      },
      "outputs": [],
      "source": [
        "import pandas as pd\n",
        "import numpy as np\n",
        "import collections"
      ]
    },
    {
      "cell_type": "code",
      "source": [
        "space_data = pd.read_csv('space.csv', sep=';')"
      ],
      "metadata": {
        "id": "fVYrcJJh48rs"
      },
      "execution_count": 44,
      "outputs": []
    },
    {
      "cell_type": "code",
      "source": [
        "space_data"
      ],
      "metadata": {
        "colab": {
          "base_uri": "https://localhost:8080/",
          "height": 832
        },
        "id": "DrLhIyxD5EJy",
        "outputId": "13de59af-845c-406d-883b-06c50fa23b7f"
      },
      "execution_count": 45,
      "outputs": [
        {
          "output_type": "execute_result",
          "data": {
            "text/html": [
              "\n",
              "  <div id=\"df-67659624-c1d0-47c3-860d-41085af6a60f\">\n",
              "    <div class=\"colab-df-container\">\n",
              "      <div>\n",
              "<style scoped>\n",
              "    .dataframe tbody tr th:only-of-type {\n",
              "        vertical-align: middle;\n",
              "    }\n",
              "\n",
              "    .dataframe tbody tr th {\n",
              "        vertical-align: top;\n",
              "    }\n",
              "\n",
              "    .dataframe thead th {\n",
              "        text-align: right;\n",
              "    }\n",
              "</style>\n",
              "<table border=\"1\" class=\"dataframe\">\n",
              "  <thead>\n",
              "    <tr style=\"text-align: right;\">\n",
              "      <th></th>\n",
              "      <th>Num</th>\n",
              "      <th>Company Name</th>\n",
              "      <th>Location</th>\n",
              "      <th>Datum</th>\n",
              "      <th>Detail</th>\n",
              "      <th>Status Rocket</th>\n",
              "      <th>Cost</th>\n",
              "      <th>Status Mission</th>\n",
              "    </tr>\n",
              "  </thead>\n",
              "  <tbody>\n",
              "    <tr>\n",
              "      <th>0</th>\n",
              "      <td>0</td>\n",
              "      <td>SpaceX</td>\n",
              "      <td>LC-39A Kennedy Space Center Florida USA</td>\n",
              "      <td>Fri Aug 07 2020 05:12 UTC</td>\n",
              "      <td>Falcon 9 Block 5 | Starlink V1 L9 &amp; BlackSky</td>\n",
              "      <td>StatusActive</td>\n",
              "      <td>50.00</td>\n",
              "      <td>Success</td>\n",
              "    </tr>\n",
              "    <tr>\n",
              "      <th>1</th>\n",
              "      <td>1</td>\n",
              "      <td>CASC</td>\n",
              "      <td>Site 9401 (SLS-2) Jiuquan Satellite Launch Cen...</td>\n",
              "      <td>Thu Aug 06 2020 04:01 UTC</td>\n",
              "      <td>Long March 2D | Gaofen-9 04 &amp; Q-SAT</td>\n",
              "      <td>StatusActive</td>\n",
              "      <td>29.75</td>\n",
              "      <td>Success</td>\n",
              "    </tr>\n",
              "    <tr>\n",
              "      <th>2</th>\n",
              "      <td>2</td>\n",
              "      <td>SpaceX</td>\n",
              "      <td>Pad A Boca Chica Texas USA</td>\n",
              "      <td>Tue Aug 04 2020 23:57 UTC</td>\n",
              "      <td>Starship Prototype | 150 Meter Hop</td>\n",
              "      <td>StatusActive</td>\n",
              "      <td>0.00</td>\n",
              "      <td>Success</td>\n",
              "    </tr>\n",
              "    <tr>\n",
              "      <th>3</th>\n",
              "      <td>3</td>\n",
              "      <td>Roscosmos</td>\n",
              "      <td>Site 200/39 Baikonur Cosmodrome Kazakhstan</td>\n",
              "      <td>Thu Jul 30 2020 21:25 UTC</td>\n",
              "      <td>Proton-M/Briz-M | Ekspress-80 &amp; Ekspress-103</td>\n",
              "      <td>StatusActive</td>\n",
              "      <td>65.00</td>\n",
              "      <td>Success</td>\n",
              "    </tr>\n",
              "    <tr>\n",
              "      <th>4</th>\n",
              "      <td>4</td>\n",
              "      <td>ULA</td>\n",
              "      <td>SLC-41 Cape Canaveral AFS Florida USA</td>\n",
              "      <td>Thu Jul 30 2020 11:50 UTC</td>\n",
              "      <td>Atlas V 541 | Perseverance</td>\n",
              "      <td>StatusActive</td>\n",
              "      <td>145.00</td>\n",
              "      <td>Success</td>\n",
              "    </tr>\n",
              "    <tr>\n",
              "      <th>...</th>\n",
              "      <td>...</td>\n",
              "      <td>...</td>\n",
              "      <td>...</td>\n",
              "      <td>...</td>\n",
              "      <td>...</td>\n",
              "      <td>...</td>\n",
              "      <td>...</td>\n",
              "      <td>...</td>\n",
              "    </tr>\n",
              "    <tr>\n",
              "      <th>4319</th>\n",
              "      <td>4319</td>\n",
              "      <td>US Navy</td>\n",
              "      <td>LC-18A Cape Canaveral AFS Florida USA</td>\n",
              "      <td>Wed Feb 05 1958 07:33 UTC</td>\n",
              "      <td>Vanguard | Vanguard TV3BU</td>\n",
              "      <td>StatusRetired</td>\n",
              "      <td>0.00</td>\n",
              "      <td>Failure</td>\n",
              "    </tr>\n",
              "    <tr>\n",
              "      <th>4320</th>\n",
              "      <td>4320</td>\n",
              "      <td>AMBA</td>\n",
              "      <td>LC-26A Cape Canaveral AFS Florida USA</td>\n",
              "      <td>Sat Feb 01 1958 03:48 UTC</td>\n",
              "      <td>Juno I | Explorer 1</td>\n",
              "      <td>StatusRetired</td>\n",
              "      <td>0.00</td>\n",
              "      <td>Success</td>\n",
              "    </tr>\n",
              "    <tr>\n",
              "      <th>4321</th>\n",
              "      <td>4321</td>\n",
              "      <td>US Navy</td>\n",
              "      <td>LC-18A Cape Canaveral AFS Florida USA</td>\n",
              "      <td>Fri Dec 06 1957 16:44 UTC</td>\n",
              "      <td>Vanguard | Vanguard TV3</td>\n",
              "      <td>StatusRetired</td>\n",
              "      <td>0.00</td>\n",
              "      <td>Failure</td>\n",
              "    </tr>\n",
              "    <tr>\n",
              "      <th>4322</th>\n",
              "      <td>4322</td>\n",
              "      <td>RVSN USSR</td>\n",
              "      <td>Site 1/5 Baikonur Cosmodrome Kazakhstan</td>\n",
              "      <td>Sun Nov 03 1957 02:30 UTC</td>\n",
              "      <td>Sputnik 8K71PS | Sputnik-2</td>\n",
              "      <td>StatusRetired</td>\n",
              "      <td>0.00</td>\n",
              "      <td>Success</td>\n",
              "    </tr>\n",
              "    <tr>\n",
              "      <th>4323</th>\n",
              "      <td>4323</td>\n",
              "      <td>RVSN USSR</td>\n",
              "      <td>Site 1/5 Baikonur Cosmodrome Kazakhstan</td>\n",
              "      <td>Fri Oct 04 1957 19:28 UTC</td>\n",
              "      <td>Sputnik 8K71PS | Sputnik-1</td>\n",
              "      <td>StatusRetired</td>\n",
              "      <td>0.00</td>\n",
              "      <td>Success</td>\n",
              "    </tr>\n",
              "  </tbody>\n",
              "</table>\n",
              "<p>4324 rows × 8 columns</p>\n",
              "</div>\n",
              "      <button class=\"colab-df-convert\" onclick=\"convertToInteractive('df-67659624-c1d0-47c3-860d-41085af6a60f')\"\n",
              "              title=\"Convert this dataframe to an interactive table.\"\n",
              "              style=\"display:none;\">\n",
              "        \n",
              "  <svg xmlns=\"http://www.w3.org/2000/svg\" height=\"24px\"viewBox=\"0 0 24 24\"\n",
              "       width=\"24px\">\n",
              "    <path d=\"M0 0h24v24H0V0z\" fill=\"none\"/>\n",
              "    <path d=\"M18.56 5.44l.94 2.06.94-2.06 2.06-.94-2.06-.94-.94-2.06-.94 2.06-2.06.94zm-11 1L8.5 8.5l.94-2.06 2.06-.94-2.06-.94L8.5 2.5l-.94 2.06-2.06.94zm10 10l.94 2.06.94-2.06 2.06-.94-2.06-.94-.94-2.06-.94 2.06-2.06.94z\"/><path d=\"M17.41 7.96l-1.37-1.37c-.4-.4-.92-.59-1.43-.59-.52 0-1.04.2-1.43.59L10.3 9.45l-7.72 7.72c-.78.78-.78 2.05 0 2.83L4 21.41c.39.39.9.59 1.41.59.51 0 1.02-.2 1.41-.59l7.78-7.78 2.81-2.81c.8-.78.8-2.07 0-2.86zM5.41 20L4 18.59l7.72-7.72 1.47 1.35L5.41 20z\"/>\n",
              "  </svg>\n",
              "      </button>\n",
              "      \n",
              "  <style>\n",
              "    .colab-df-container {\n",
              "      display:flex;\n",
              "      flex-wrap:wrap;\n",
              "      gap: 12px;\n",
              "    }\n",
              "\n",
              "    .colab-df-convert {\n",
              "      background-color: #E8F0FE;\n",
              "      border: none;\n",
              "      border-radius: 50%;\n",
              "      cursor: pointer;\n",
              "      display: none;\n",
              "      fill: #1967D2;\n",
              "      height: 32px;\n",
              "      padding: 0 0 0 0;\n",
              "      width: 32px;\n",
              "    }\n",
              "\n",
              "    .colab-df-convert:hover {\n",
              "      background-color: #E2EBFA;\n",
              "      box-shadow: 0px 1px 2px rgba(60, 64, 67, 0.3), 0px 1px 3px 1px rgba(60, 64, 67, 0.15);\n",
              "      fill: #174EA6;\n",
              "    }\n",
              "\n",
              "    [theme=dark] .colab-df-convert {\n",
              "      background-color: #3B4455;\n",
              "      fill: #D2E3FC;\n",
              "    }\n",
              "\n",
              "    [theme=dark] .colab-df-convert:hover {\n",
              "      background-color: #434B5C;\n",
              "      box-shadow: 0px 1px 3px 1px rgba(0, 0, 0, 0.15);\n",
              "      filter: drop-shadow(0px 1px 2px rgba(0, 0, 0, 0.3));\n",
              "      fill: #FFFFFF;\n",
              "    }\n",
              "  </style>\n",
              "\n",
              "      <script>\n",
              "        const buttonEl =\n",
              "          document.querySelector('#df-67659624-c1d0-47c3-860d-41085af6a60f button.colab-df-convert');\n",
              "        buttonEl.style.display =\n",
              "          google.colab.kernel.accessAllowed ? 'block' : 'none';\n",
              "\n",
              "        async function convertToInteractive(key) {\n",
              "          const element = document.querySelector('#df-67659624-c1d0-47c3-860d-41085af6a60f');\n",
              "          const dataTable =\n",
              "            await google.colab.kernel.invokeFunction('convertToInteractive',\n",
              "                                                     [key], {});\n",
              "          if (!dataTable) return;\n",
              "\n",
              "          const docLinkHtml = 'Like what you see? Visit the ' +\n",
              "            '<a target=\"_blank\" href=https://colab.research.google.com/notebooks/data_table.ipynb>data table notebook</a>'\n",
              "            + ' to learn more about interactive tables.';\n",
              "          element.innerHTML = '';\n",
              "          dataTable['output_type'] = 'display_data';\n",
              "          await google.colab.output.renderOutput(dataTable, element);\n",
              "          const docLink = document.createElement('div');\n",
              "          docLink.innerHTML = docLinkHtml;\n",
              "          element.appendChild(docLink);\n",
              "        }\n",
              "      </script>\n",
              "    </div>\n",
              "  </div>\n",
              "  "
            ],
            "text/plain": [
              "       Num Company Name  ...    Cost Status Mission\n",
              "0        0       SpaceX  ...   50.00        Success\n",
              "1        1         CASC  ...   29.75        Success\n",
              "2        2       SpaceX  ...    0.00        Success\n",
              "3        3    Roscosmos  ...   65.00        Success\n",
              "4        4          ULA  ...  145.00        Success\n",
              "...    ...          ...  ...     ...            ...\n",
              "4319  4319      US Navy  ...    0.00        Failure\n",
              "4320  4320         AMBA  ...    0.00        Success\n",
              "4321  4321      US Navy  ...    0.00        Failure\n",
              "4322  4322    RVSN USSR  ...    0.00        Success\n",
              "4323  4323    RVSN USSR  ...    0.00        Success\n",
              "\n",
              "[4324 rows x 8 columns]"
            ]
          },
          "metadata": {},
          "execution_count": 45
        }
      ]
    },
    {
      "cell_type": "markdown",
      "source": [
        " Apresente a porcentagem de quantas missões deram certo;"
      ],
      "metadata": {
        "id": "7MX78lOj61EI"
      }
    },
    {
      "cell_type": "code",
      "source": [
        "status_mission = np.array(space_data['Status Mission'])\n",
        "status_mission"
      ],
      "metadata": {
        "colab": {
          "base_uri": "https://localhost:8080/"
        },
        "id": "slV2EjZR6QyE",
        "outputId": "6f7c8bf7-44b5-4d1e-f959-b9b0d8e3b1bc"
      },
      "execution_count": 46,
      "outputs": [
        {
          "output_type": "execute_result",
          "data": {
            "text/plain": [
              "array(['Success', 'Success', 'Success', ..., 'Failure', 'Success',\n",
              "       'Success'], dtype=object)"
            ]
          },
          "metadata": {},
          "execution_count": 46
        }
      ]
    },
    {
      "cell_type": "code",
      "source": [
        "#é possível usar o numpy.unique, mas a manipulação se torna mais fácil\n",
        "#com a biblioteca collections\n",
        "'''\n",
        "status, count = np.unique(status_mission, return_counts=True)\n",
        "status, count\n",
        "'''\n",
        "\n",
        "\n",
        "\n",
        "status = collections.Counter(status_mission)\n",
        "status\n",
        "\n"
      ],
      "metadata": {
        "colab": {
          "base_uri": "https://localhost:8080/"
        },
        "id": "8kqFviLc7Phl",
        "outputId": "9784a773-473e-41d6-f935-9110874e9ec2"
      },
      "execution_count": 47,
      "outputs": [
        {
          "output_type": "execute_result",
          "data": {
            "text/plain": [
              "Counter({'Failure': 339,\n",
              "         'Partial Failure': 102,\n",
              "         'Prelaunch Failure': 4,\n",
              "         'Success': 3879})"
            ]
          },
          "metadata": {},
          "execution_count": 47
        }
      ]
    },
    {
      "cell_type": "code",
      "source": [
        "sucess_missions = status['Success']\n",
        "total_missions = sum(status.values())\n",
        "percent = (sucess_missions/total_missions)*100\n",
        "\n",
        "print('porcentagem de missões que deram certo:{:.2f}%'.format(percent))"
      ],
      "metadata": {
        "colab": {
          "base_uri": "https://localhost:8080/"
        },
        "id": "pBMZgk4s7Rde",
        "outputId": "1b1ec931-8efb-40d6-8da8-c4db0cd6bd22"
      },
      "execution_count": 48,
      "outputs": [
        {
          "output_type": "stream",
          "name": "stdout",
          "text": [
            "porcentagem de missões que deram certo:89.71%\n"
          ]
        }
      ]
    },
    {
      "cell_type": "markdown",
      "source": [
        " Qual é a média de gastos de uma missão espacial se baseando em missões que possuam valores disponíveis ( > 0)?"
      ],
      "metadata": {
        "id": "L2LnnwLheheC"
      }
    },
    {
      "cell_type": "code",
      "source": [
        "valores = np.array(space_data[' Cost'])\n",
        "valores"
      ],
      "metadata": {
        "colab": {
          "base_uri": "https://localhost:8080/"
        },
        "id": "RXebKKttaWSa",
        "outputId": "d0ce32a9-7e38-4df8-9f0a-73d351297a75"
      },
      "execution_count": 50,
      "outputs": [
        {
          "output_type": "execute_result",
          "data": {
            "text/plain": [
              "array([50.  , 29.75,  0.  , ...,  0.  ,  0.  ,  0.  ])"
            ]
          },
          "metadata": {},
          "execution_count": 50
        }
      ]
    },
    {
      "cell_type": "code",
      "source": [
        "missions_above_zero = np.count_nonzero(valores != 0)\n",
        "missions_above_zero"
      ],
      "metadata": {
        "id": "SGCJ5ikIjdfP",
        "colab": {
          "base_uri": "https://localhost:8080/"
        },
        "outputId": "8d433678-5d32-45d6-cd84-c17c6879b224"
      },
      "execution_count": 66,
      "outputs": [
        {
          "output_type": "execute_result",
          "data": {
            "text/plain": [
              "964"
            ]
          },
          "metadata": {},
          "execution_count": 66
        }
      ]
    },
    {
      "cell_type": "code",
      "source": [
        "total_cost = sum(valores)\n",
        "total_cost"
      ],
      "metadata": {
        "colab": {
          "base_uri": "https://localhost:8080/"
        },
        "id": "KP2CS_QVl5fL",
        "outputId": "0c8f4b82-5595-47e4-8032-fb7c95346f5b"
      },
      "execution_count": 67,
      "outputs": [
        {
          "output_type": "execute_result",
          "data": {
            "text/plain": [
              "148255.6800000001"
            ]
          },
          "metadata": {},
          "execution_count": 67
        }
      ]
    },
    {
      "cell_type": "code",
      "source": [
        "mean =  total_cost/ missions_above_zero\n",
        "mean"
      ],
      "metadata": {
        "colab": {
          "base_uri": "https://localhost:8080/"
        },
        "id": "z_OtO3eXmzHr",
        "outputId": "715809b7-3caf-4819-b6c7-ba7087fb8b0a"
      },
      "execution_count": 64,
      "outputs": [
        {
          "output_type": "execute_result",
          "data": {
            "text/plain": [
              "153.7921991701246"
            ]
          },
          "metadata": {},
          "execution_count": 64
        }
      ]
    },
    {
      "cell_type": "code",
      "source": [
        "print('a média de gastos é de {:.2f}'.format(mean))"
      ],
      "metadata": {
        "colab": {
          "base_uri": "https://localhost:8080/"
        },
        "id": "C4abFWNInjbs",
        "outputId": "c4c74f82-e4f8-45a1-f7b9-b9cb9fafd2f6"
      },
      "execution_count": 65,
      "outputs": [
        {
          "output_type": "stream",
          "name": "stdout",
          "text": [
            "a média de gastos é de 153.79\n"
          ]
        }
      ]
    },
    {
      "cell_type": "markdown",
      "source": [
        "Encontre quantas missões espaciais neste Dataset foram realizadas pelos Estados Unidos da América (EUA);"
      ],
      "metadata": {
        "id": "aoH97DS-nv2G"
      }
    },
    {
      "cell_type": "code",
      "source": [
        "location = np.array(space_data['Location'])\n",
        "location"
      ],
      "metadata": {
        "colab": {
          "base_uri": "https://localhost:8080/"
        },
        "id": "8s5qPOoYnrqc",
        "outputId": "ad9f92ba-9528-4d14-9d8e-7b2313122ecb"
      },
      "execution_count": 69,
      "outputs": [
        {
          "output_type": "execute_result",
          "data": {
            "text/plain": [
              "array(['LC-39A Kennedy Space Center Florida USA',\n",
              "       'Site 9401 (SLS-2) Jiuquan Satellite Launch Center China',\n",
              "       'Pad A Boca Chica Texas USA', ...,\n",
              "       'LC-18A Cape Canaveral AFS Florida USA',\n",
              "       'Site 1/5 Baikonur Cosmodrome Kazakhstan',\n",
              "       'Site 1/5 Baikonur Cosmodrome Kazakhstan'], dtype=object)"
            ]
          },
          "metadata": {},
          "execution_count": 69
        }
      ]
    },
    {
      "cell_type": "code",
      "source": [
        "#tentativa com where falhou\n",
        "\n",
        "countUSA = []\n",
        "for i in range(0, len(location)):\n",
        "  if 'USA' in location[i]:\n",
        "    countUSA.append(i)\n",
        "\n",
        "countUSA\n",
        "len(countUSA)"
      ],
      "metadata": {
        "colab": {
          "base_uri": "https://localhost:8080/"
        },
        "id": "yHzlgxpco0yf",
        "outputId": "458860f3-b637-447d-9500-816b2c3eefda"
      },
      "execution_count": 75,
      "outputs": [
        {
          "output_type": "execute_result",
          "data": {
            "text/plain": [
              "1344"
            ]
          },
          "metadata": {},
          "execution_count": 75
        }
      ]
    },
    {
      "cell_type": "code",
      "source": [
        "print('Missões feitas pelos EUA:', len(countUSA))"
      ],
      "metadata": {
        "colab": {
          "base_uri": "https://localhost:8080/"
        },
        "id": "0YYPcbR9phl_",
        "outputId": "885b7dcd-f961-4a24-b59e-2ea7b7c8dc21"
      },
      "execution_count": 78,
      "outputs": [
        {
          "output_type": "stream",
          "name": "stdout",
          "text": [
            "Missões feitas pelos EUA: 1344\n"
          ]
        }
      ]
    },
    {
      "cell_type": "markdown",
      "source": [
        "Encontre qual foi a missão mais cara realizada pela empresa SpaceX;"
      ],
      "metadata": {
        "id": "v4VilvNsrV1z"
      }
    },
    {
      "cell_type": "code",
      "source": [
        "spacex = space_data.drop(space_data.loc[space_data['Company Name'] != 'SpaceX'].index)\n",
        "spacex"
      ],
      "metadata": {
        "colab": {
          "base_uri": "https://localhost:8080/",
          "height": 832
        },
        "id": "zatwqzJdrRdR",
        "outputId": "ee417e9f-b952-46da-f76a-09c6b973090a"
      },
      "execution_count": 80,
      "outputs": [
        {
          "output_type": "execute_result",
          "data": {
            "text/html": [
              "\n",
              "  <div id=\"df-5f058387-0933-41d8-81c7-032b093e3755\">\n",
              "    <div class=\"colab-df-container\">\n",
              "      <div>\n",
              "<style scoped>\n",
              "    .dataframe tbody tr th:only-of-type {\n",
              "        vertical-align: middle;\n",
              "    }\n",
              "\n",
              "    .dataframe tbody tr th {\n",
              "        vertical-align: top;\n",
              "    }\n",
              "\n",
              "    .dataframe thead th {\n",
              "        text-align: right;\n",
              "    }\n",
              "</style>\n",
              "<table border=\"1\" class=\"dataframe\">\n",
              "  <thead>\n",
              "    <tr style=\"text-align: right;\">\n",
              "      <th></th>\n",
              "      <th>Num</th>\n",
              "      <th>Company Name</th>\n",
              "      <th>Location</th>\n",
              "      <th>Datum</th>\n",
              "      <th>Detail</th>\n",
              "      <th>Status Rocket</th>\n",
              "      <th>Cost</th>\n",
              "      <th>Status Mission</th>\n",
              "    </tr>\n",
              "  </thead>\n",
              "  <tbody>\n",
              "    <tr>\n",
              "      <th>0</th>\n",
              "      <td>0</td>\n",
              "      <td>SpaceX</td>\n",
              "      <td>LC-39A Kennedy Space Center Florida USA</td>\n",
              "      <td>Fri Aug 07 2020 05:12 UTC</td>\n",
              "      <td>Falcon 9 Block 5 | Starlink V1 L9 &amp; BlackSky</td>\n",
              "      <td>StatusActive</td>\n",
              "      <td>50.0</td>\n",
              "      <td>Success</td>\n",
              "    </tr>\n",
              "    <tr>\n",
              "      <th>2</th>\n",
              "      <td>2</td>\n",
              "      <td>SpaceX</td>\n",
              "      <td>Pad A Boca Chica Texas USA</td>\n",
              "      <td>Tue Aug 04 2020 23:57 UTC</td>\n",
              "      <td>Starship Prototype | 150 Meter Hop</td>\n",
              "      <td>StatusActive</td>\n",
              "      <td>0.0</td>\n",
              "      <td>Success</td>\n",
              "    </tr>\n",
              "    <tr>\n",
              "      <th>8</th>\n",
              "      <td>8</td>\n",
              "      <td>SpaceX</td>\n",
              "      <td>SLC-40 Cape Canaveral AFS Florida USA</td>\n",
              "      <td>Mon Jul 20 2020 21:30 UTC</td>\n",
              "      <td>Falcon 9 Block 5 | ANASIS-II</td>\n",
              "      <td>StatusActive</td>\n",
              "      <td>50.0</td>\n",
              "      <td>Success</td>\n",
              "    </tr>\n",
              "    <tr>\n",
              "      <th>17</th>\n",
              "      <td>17</td>\n",
              "      <td>SpaceX</td>\n",
              "      <td>SLC-40 Cape Canaveral AFS Florida USA</td>\n",
              "      <td>Tue Jun 30 2020 20:10 UTC</td>\n",
              "      <td>Falcon 9 Block 5 | GPS III SV03</td>\n",
              "      <td>StatusActive</td>\n",
              "      <td>50.0</td>\n",
              "      <td>Success</td>\n",
              "    </tr>\n",
              "    <tr>\n",
              "      <th>20</th>\n",
              "      <td>20</td>\n",
              "      <td>SpaceX</td>\n",
              "      <td>SLC-40 Cape Canaveral AFS Florida USA</td>\n",
              "      <td>Sat Jun 13 2020 09:21 UTC</td>\n",
              "      <td>Falcon 9 Block 5 | Starlink V1 L8 &amp; SkySat 16 ...</td>\n",
              "      <td>StatusActive</td>\n",
              "      <td>50.0</td>\n",
              "      <td>Success</td>\n",
              "    </tr>\n",
              "    <tr>\n",
              "      <th>...</th>\n",
              "      <td>...</td>\n",
              "      <td>...</td>\n",
              "      <td>...</td>\n",
              "      <td>...</td>\n",
              "      <td>...</td>\n",
              "      <td>...</td>\n",
              "      <td>...</td>\n",
              "      <td>...</td>\n",
              "    </tr>\n",
              "    <tr>\n",
              "      <th>763</th>\n",
              "      <td>763</td>\n",
              "      <td>SpaceX</td>\n",
              "      <td>Omelek Island Ronald Reagan Ballistic Missile ...</td>\n",
              "      <td>Tue Jul 14 2009 03:35 UTC</td>\n",
              "      <td>Falcon 1 | RazakSat</td>\n",
              "      <td>StatusRetired</td>\n",
              "      <td>7.0</td>\n",
              "      <td>Success</td>\n",
              "    </tr>\n",
              "    <tr>\n",
              "      <th>800</th>\n",
              "      <td>800</td>\n",
              "      <td>SpaceX</td>\n",
              "      <td>Omelek Island Ronald Reagan Ballistic Missile ...</td>\n",
              "      <td>Sun Sep 28 2008 23:15 UTC</td>\n",
              "      <td>Falcon 1 | RatSat</td>\n",
              "      <td>StatusRetired</td>\n",
              "      <td>7.0</td>\n",
              "      <td>Success</td>\n",
              "    </tr>\n",
              "    <tr>\n",
              "      <th>808</th>\n",
              "      <td>808</td>\n",
              "      <td>SpaceX</td>\n",
              "      <td>Omelek Island Ronald Reagan Ballistic Missile ...</td>\n",
              "      <td>Sun Aug 03 2008 03:34 UTC</td>\n",
              "      <td>Falcon 1 | Flight 3</td>\n",
              "      <td>StatusRetired</td>\n",
              "      <td>7.0</td>\n",
              "      <td>Failure</td>\n",
              "    </tr>\n",
              "    <tr>\n",
              "      <th>879</th>\n",
              "      <td>879</td>\n",
              "      <td>SpaceX</td>\n",
              "      <td>Omelek Island Ronald Reagan Ballistic Missile ...</td>\n",
              "      <td>Wed Mar 21 2007 01:10 UTC</td>\n",
              "      <td>Falcon 1 | DemoSat</td>\n",
              "      <td>StatusRetired</td>\n",
              "      <td>7.0</td>\n",
              "      <td>Failure</td>\n",
              "    </tr>\n",
              "    <tr>\n",
              "      <th>929</th>\n",
              "      <td>929</td>\n",
              "      <td>SpaceX</td>\n",
              "      <td>Omelek Island Ronald Reagan Ballistic Missile ...</td>\n",
              "      <td>Fri Mar 24 2006 21:30 UTC</td>\n",
              "      <td>Falcon 1 | FalconSat-2</td>\n",
              "      <td>StatusRetired</td>\n",
              "      <td>7.0</td>\n",
              "      <td>Failure</td>\n",
              "    </tr>\n",
              "  </tbody>\n",
              "</table>\n",
              "<p>100 rows × 8 columns</p>\n",
              "</div>\n",
              "      <button class=\"colab-df-convert\" onclick=\"convertToInteractive('df-5f058387-0933-41d8-81c7-032b093e3755')\"\n",
              "              title=\"Convert this dataframe to an interactive table.\"\n",
              "              style=\"display:none;\">\n",
              "        \n",
              "  <svg xmlns=\"http://www.w3.org/2000/svg\" height=\"24px\"viewBox=\"0 0 24 24\"\n",
              "       width=\"24px\">\n",
              "    <path d=\"M0 0h24v24H0V0z\" fill=\"none\"/>\n",
              "    <path d=\"M18.56 5.44l.94 2.06.94-2.06 2.06-.94-2.06-.94-.94-2.06-.94 2.06-2.06.94zm-11 1L8.5 8.5l.94-2.06 2.06-.94-2.06-.94L8.5 2.5l-.94 2.06-2.06.94zm10 10l.94 2.06.94-2.06 2.06-.94-2.06-.94-.94-2.06-.94 2.06-2.06.94z\"/><path d=\"M17.41 7.96l-1.37-1.37c-.4-.4-.92-.59-1.43-.59-.52 0-1.04.2-1.43.59L10.3 9.45l-7.72 7.72c-.78.78-.78 2.05 0 2.83L4 21.41c.39.39.9.59 1.41.59.51 0 1.02-.2 1.41-.59l7.78-7.78 2.81-2.81c.8-.78.8-2.07 0-2.86zM5.41 20L4 18.59l7.72-7.72 1.47 1.35L5.41 20z\"/>\n",
              "  </svg>\n",
              "      </button>\n",
              "      \n",
              "  <style>\n",
              "    .colab-df-container {\n",
              "      display:flex;\n",
              "      flex-wrap:wrap;\n",
              "      gap: 12px;\n",
              "    }\n",
              "\n",
              "    .colab-df-convert {\n",
              "      background-color: #E8F0FE;\n",
              "      border: none;\n",
              "      border-radius: 50%;\n",
              "      cursor: pointer;\n",
              "      display: none;\n",
              "      fill: #1967D2;\n",
              "      height: 32px;\n",
              "      padding: 0 0 0 0;\n",
              "      width: 32px;\n",
              "    }\n",
              "\n",
              "    .colab-df-convert:hover {\n",
              "      background-color: #E2EBFA;\n",
              "      box-shadow: 0px 1px 2px rgba(60, 64, 67, 0.3), 0px 1px 3px 1px rgba(60, 64, 67, 0.15);\n",
              "      fill: #174EA6;\n",
              "    }\n",
              "\n",
              "    [theme=dark] .colab-df-convert {\n",
              "      background-color: #3B4455;\n",
              "      fill: #D2E3FC;\n",
              "    }\n",
              "\n",
              "    [theme=dark] .colab-df-convert:hover {\n",
              "      background-color: #434B5C;\n",
              "      box-shadow: 0px 1px 3px 1px rgba(0, 0, 0, 0.15);\n",
              "      filter: drop-shadow(0px 1px 2px rgba(0, 0, 0, 0.3));\n",
              "      fill: #FFFFFF;\n",
              "    }\n",
              "  </style>\n",
              "\n",
              "      <script>\n",
              "        const buttonEl =\n",
              "          document.querySelector('#df-5f058387-0933-41d8-81c7-032b093e3755 button.colab-df-convert');\n",
              "        buttonEl.style.display =\n",
              "          google.colab.kernel.accessAllowed ? 'block' : 'none';\n",
              "\n",
              "        async function convertToInteractive(key) {\n",
              "          const element = document.querySelector('#df-5f058387-0933-41d8-81c7-032b093e3755');\n",
              "          const dataTable =\n",
              "            await google.colab.kernel.invokeFunction('convertToInteractive',\n",
              "                                                     [key], {});\n",
              "          if (!dataTable) return;\n",
              "\n",
              "          const docLinkHtml = 'Like what you see? Visit the ' +\n",
              "            '<a target=\"_blank\" href=https://colab.research.google.com/notebooks/data_table.ipynb>data table notebook</a>'\n",
              "            + ' to learn more about interactive tables.';\n",
              "          element.innerHTML = '';\n",
              "          dataTable['output_type'] = 'display_data';\n",
              "          await google.colab.output.renderOutput(dataTable, element);\n",
              "          const docLink = document.createElement('div');\n",
              "          docLink.innerHTML = docLinkHtml;\n",
              "          element.appendChild(docLink);\n",
              "        }\n",
              "      </script>\n",
              "    </div>\n",
              "  </div>\n",
              "  "
            ],
            "text/plain": [
              "     Num Company Name  ...  Cost Status Mission\n",
              "0      0       SpaceX  ...  50.0        Success\n",
              "2      2       SpaceX  ...   0.0        Success\n",
              "8      8       SpaceX  ...  50.0        Success\n",
              "17    17       SpaceX  ...  50.0        Success\n",
              "20    20       SpaceX  ...  50.0        Success\n",
              "..   ...          ...  ...   ...            ...\n",
              "763  763       SpaceX  ...   7.0        Success\n",
              "800  800       SpaceX  ...   7.0        Success\n",
              "808  808       SpaceX  ...   7.0        Failure\n",
              "879  879       SpaceX  ...   7.0        Failure\n",
              "929  929       SpaceX  ...   7.0        Failure\n",
              "\n",
              "[100 rows x 8 columns]"
            ]
          },
          "metadata": {},
          "execution_count": 80
        }
      ]
    },
    {
      "cell_type": "code",
      "source": [
        "cost_spacex = np.array(spacex[' Cost'])\n",
        "cost_spacex"
      ],
      "metadata": {
        "colab": {
          "base_uri": "https://localhost:8080/"
        },
        "id": "PrK7lESGvC24",
        "outputId": "2f94e65e-b0b2-4c12-d7d4-426075080a5d"
      },
      "execution_count": 85,
      "outputs": [
        {
          "output_type": "execute_result",
          "data": {
            "text/plain": [
              "array([50. ,  0. , 50. , 50. , 50. , 50. , 50. , 50. , 50. , 50. , 50. ,\n",
              "       50. , 50. , 50. , 50. , 50. , 50. , 50. , 50. , 90. , 50. , 50. ,\n",
              "       50. , 90. , 50. , 50. , 50. , 50. , 50. , 50. , 50. , 50. , 50. ,\n",
              "       50. , 50. , 50. , 62. , 62. , 62. , 50. , 62. , 62. , 62. , 62. ,\n",
              "       62. , 90. , 62. , 62. , 62. , 62. , 62. , 62. , 62. , 62. , 62. ,\n",
              "       62. , 62. , 62. , 62. , 62. , 62. , 62. , 62. , 62. , 62. , 62. ,\n",
              "       62. , 62. , 62. , 62. , 62. , 62. , 62. , 62. , 56.5, 62. , 56.5,\n",
              "       56.5, 56.5, 56.5, 56.5, 56.5, 56.5, 56.5, 56.5, 56.5, 56.5, 56.5,\n",
              "       56.5, 56.5, 59.5, 59.5, 59.5, 59.5, 59.5,  7. ,  7. ,  7. ,  7. ,\n",
              "        7. ])"
            ]
          },
          "metadata": {},
          "execution_count": 85
        }
      ]
    },
    {
      "cell_type": "code",
      "source": [
        "most_expensive = np.max(cost_spacex)\n",
        "most_expensive"
      ],
      "metadata": {
        "colab": {
          "base_uri": "https://localhost:8080/"
        },
        "id": "0OiwvWOXvS5Q",
        "outputId": "19d47abc-2c73-4909-906a-f9c0e3c53af0"
      },
      "execution_count": 84,
      "outputs": [
        {
          "output_type": "execute_result",
          "data": {
            "text/plain": [
              "90.0"
            ]
          },
          "metadata": {},
          "execution_count": 84
        }
      ]
    },
    {
      "cell_type": "code",
      "source": [
        "print('a missão mais cara da SpaceX custou:',most_expensive)"
      ],
      "metadata": {
        "colab": {
          "base_uri": "https://localhost:8080/"
        },
        "id": "xuD1JxGvvXq3",
        "outputId": "36c0ace1-8718-4b29-bb1c-9d22d102f3b7"
      },
      "execution_count": 87,
      "outputs": [
        {
          "output_type": "stream",
          "name": "stdout",
          "text": [
            "a missão mais cara da SpaceX custou: 90.0\n"
          ]
        }
      ]
    },
    {
      "cell_type": "markdown",
      "source": [
        "Mostre o nome das empresas que já realizaram Missões Espaciais juntamente com suas respectivas quantidades de missões (use o for no final para mostrar as informações).\n"
      ],
      "metadata": {
        "id": "2ma9ZcIUwCsp"
      }
    },
    {
      "cell_type": "code",
      "source": [
        "company = np.array(space_data['Company Name'])\n",
        "company"
      ],
      "metadata": {
        "colab": {
          "base_uri": "https://localhost:8080/"
        },
        "id": "LfKnQrgSv1tI",
        "outputId": "332a92c5-3799-4bad-df27-55c9396ef3f0"
      },
      "execution_count": 88,
      "outputs": [
        {
          "output_type": "execute_result",
          "data": {
            "text/plain": [
              "array(['SpaceX', 'CASC', 'SpaceX', ..., 'US Navy', 'RVSN USSR',\n",
              "       'RVSN USSR'], dtype=object)"
            ]
          },
          "metadata": {},
          "execution_count": 88
        }
      ]
    },
    {
      "cell_type": "code",
      "source": [
        "status = collections.Counter(company)\n",
        "status\n",
        "\n"
      ],
      "metadata": {
        "colab": {
          "base_uri": "https://localhost:8080/"
        },
        "id": "fMCXp91ZwgkD",
        "outputId": "0a18b71e-ae03-4eea-9207-a3feedcd29ed"
      },
      "execution_count": 89,
      "outputs": [
        {
          "output_type": "execute_result",
          "data": {
            "text/plain": [
              "Counter({'AEB': 3,\n",
              "         'AMBA': 8,\n",
              "         'ASI': 9,\n",
              "         'Arianespace': 279,\n",
              "         \"Arm??e de l'Air\": 4,\n",
              "         'Blue Origin': 12,\n",
              "         'Boeing': 136,\n",
              "         'CASC': 251,\n",
              "         'CASIC': 5,\n",
              "         'CECLES': 4,\n",
              "         'CNES': 8,\n",
              "         'Douglas': 1,\n",
              "         'EER': 1,\n",
              "         'ESA': 13,\n",
              "         'Eurockot': 13,\n",
              "         'ExPace': 10,\n",
              "         'Exos': 4,\n",
              "         'General Dynamics': 251,\n",
              "         'IAI': 11,\n",
              "         'ILS': 46,\n",
              "         'IRGC': 1,\n",
              "         'ISA': 13,\n",
              "         'ISAS': 30,\n",
              "         'ISRO': 76,\n",
              "         'JAXA': 7,\n",
              "         'KARI': 3,\n",
              "         'KCST': 5,\n",
              "         'Khrunichev': 1,\n",
              "         'Kosmotras': 22,\n",
              "         'Land Launch': 7,\n",
              "         'Landspace': 1,\n",
              "         'Lockheed': 79,\n",
              "         'MHI': 84,\n",
              "         'MITT': 7,\n",
              "         'Martin Marietta': 114,\n",
              "         'NASA': 203,\n",
              "         'Northrop': 83,\n",
              "         'OKB-586': 2,\n",
              "         'OneSpace': 1,\n",
              "         'RAE': 2,\n",
              "         'RVSN USSR': 1777,\n",
              "         'Rocket Lab': 13,\n",
              "         'Roscosmos': 55,\n",
              "         'SRC': 3,\n",
              "         'Sandia': 1,\n",
              "         'Sea Launch': 36,\n",
              "         'SpaceX': 100,\n",
              "         'Starsem': 1,\n",
              "         'ULA': 140,\n",
              "         'US Air Force': 161,\n",
              "         'US Navy': 17,\n",
              "         'UT': 5,\n",
              "         'VKS RF': 201,\n",
              "         'Virgin Orbit': 1,\n",
              "         'Yuzhmash': 2,\n",
              "         'i-Space': 1})"
            ]
          },
          "metadata": {},
          "execution_count": 89
        }
      ]
    },
    {
      "cell_type": "code",
      "source": [
        "for k, v in status.items():\n",
        "  print(f'a empresa {k} já realizou {v} missões')"
      ],
      "metadata": {
        "colab": {
          "base_uri": "https://localhost:8080/"
        },
        "id": "A-LEgz6OwlxJ",
        "outputId": "fe4d5a8f-4b7b-4fac-b9e2-10543db1f241"
      },
      "execution_count": 90,
      "outputs": [
        {
          "output_type": "stream",
          "name": "stdout",
          "text": [
            "a empresa SpaceX já realizou 100 missões\n",
            "a empresa CASC já realizou 251 missões\n",
            "a empresa Roscosmos já realizou 55 missões\n",
            "a empresa ULA já realizou 140 missões\n",
            "a empresa JAXA já realizou 7 missões\n",
            "a empresa Northrop já realizou 83 missões\n",
            "a empresa ExPace já realizou 10 missões\n",
            "a empresa IAI já realizou 11 missões\n",
            "a empresa Rocket Lab já realizou 13 missões\n",
            "a empresa Virgin Orbit já realizou 1 missões\n",
            "a empresa VKS RF já realizou 201 missões\n",
            "a empresa MHI já realizou 84 missões\n",
            "a empresa IRGC já realizou 1 missões\n",
            "a empresa Arianespace já realizou 279 missões\n",
            "a empresa ISA já realizou 13 missões\n",
            "a empresa Blue Origin já realizou 12 missões\n",
            "a empresa ISRO já realizou 76 missões\n",
            "a empresa Exos já realizou 4 missões\n",
            "a empresa ILS já realizou 46 missões\n",
            "a empresa i-Space já realizou 1 missões\n",
            "a empresa OneSpace já realizou 1 missões\n",
            "a empresa Landspace já realizou 1 missões\n",
            "a empresa Eurockot já realizou 13 missões\n",
            "a empresa Land Launch já realizou 7 missões\n",
            "a empresa CASIC já realizou 5 missões\n",
            "a empresa KCST já realizou 5 missões\n",
            "a empresa Sandia já realizou 1 missões\n",
            "a empresa Kosmotras já realizou 22 missões\n",
            "a empresa Khrunichev já realizou 1 missões\n",
            "a empresa Sea Launch já realizou 36 missões\n",
            "a empresa KARI já realizou 3 missões\n",
            "a empresa ESA já realizou 13 missões\n",
            "a empresa NASA já realizou 203 missões\n",
            "a empresa Boeing já realizou 136 missões\n",
            "a empresa ISAS já realizou 30 missões\n",
            "a empresa SRC já realizou 3 missões\n",
            "a empresa MITT já realizou 7 missões\n",
            "a empresa Lockheed já realizou 79 missões\n",
            "a empresa AEB já realizou 3 missões\n",
            "a empresa Starsem já realizou 1 missões\n",
            "a empresa RVSN USSR já realizou 1777 missões\n",
            "a empresa EER já realizou 1 missões\n",
            "a empresa General Dynamics já realizou 251 missões\n",
            "a empresa Martin Marietta já realizou 114 missões\n",
            "a empresa Yuzhmash já realizou 2 missões\n",
            "a empresa Douglas já realizou 1 missões\n",
            "a empresa ASI já realizou 9 missões\n",
            "a empresa US Air Force já realizou 161 missões\n",
            "a empresa CNES já realizou 8 missões\n",
            "a empresa CECLES já realizou 4 missões\n",
            "a empresa RAE já realizou 2 missões\n",
            "a empresa UT já realizou 5 missões\n",
            "a empresa OKB-586 já realizou 2 missões\n",
            "a empresa AMBA já realizou 8 missões\n",
            "a empresa Arm??e de l'Air já realizou 4 missões\n",
            "a empresa US Navy já realizou 17 missões\n"
          ]
        }
      ]
    },
    {
      "cell_type": "code",
      "source": [
        ""
      ],
      "metadata": {
        "id": "IIT_0pGfxGCD"
      },
      "execution_count": null,
      "outputs": []
    }
  ]
}